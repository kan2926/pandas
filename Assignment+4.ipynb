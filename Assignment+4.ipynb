{
 "cells": [
  {
   "cell_type": "markdown",
   "metadata": {},
   "source": [
    "---\n",
    "\n",
    "_You are currently looking at **version 1.1** of this notebook. To download notebooks and datafiles, as well as get help on Jupyter notebooks in the Coursera platform, visit the [Jupyter Notebook FAQ](https://www.coursera.org/learn/python-data-analysis/resources/0dhYG) course resource._\n",
    "\n",
    "---"
   ]
  },
  {
   "cell_type": "code",
   "execution_count": 1,
   "metadata": {
    "collapsed": true
   },
   "outputs": [],
   "source": [
    "import pandas as pd\n",
    "import numpy as np\n",
    "from scipy.stats import ttest_ind"
   ]
  },
  {
   "cell_type": "markdown",
   "metadata": {},
   "source": [
    "# Assignment 4 - Hypothesis Testing\n",
    "This assignment requires more individual learning than previous assignments - you are encouraged to check out the [pandas documentation](http://pandas.pydata.org/pandas-docs/stable/) to find functions or methods you might not have used yet, or ask questions on [Stack Overflow](http://stackoverflow.com/) and tag them as pandas and python related. And of course, the discussion forums are open for interaction with your peers and the course staff.\n",
    "\n",
    "Definitions:\n",
    "* A _quarter_ is a specific three month period, Q1 is January through March, Q2 is April through June, Q3 is July through September, Q4 is October through December.\n",
    "* A _recession_ is defined as starting with two consecutive quarters of GDP decline, and ending with two consecutive quarters of GDP growth.\n",
    "* A _recession bottom_ is the quarter within a recession which had the lowest GDP.\n",
    "* A _university town_ is a city which has a high percentage of university students compared to the total population of the city.\n",
    "\n",
    "**Hypothesis**: University towns have their mean housing prices less effected by recessions. Run a t-test to compare the ratio of the mean price of houses in university towns the quarter before the recession starts compared to the recession bottom. (`price_ratio=quarter_before_recession/recession_bottom`)\n",
    "\n",
    "The following data files are available for this assignment:\n",
    "* From the [Zillow research data site](http://www.zillow.com/research/data/) there is housing data for the United States. In particular the datafile for [all homes at a city level](http://files.zillowstatic.com/research/public/City/City_Zhvi_AllHomes.csv), ```City_Zhvi_AllHomes.csv```, has median home sale prices at a fine grained level.\n",
    "* From the Wikipedia page on college towns is a list of [university towns in the United States](https://en.wikipedia.org/wiki/List_of_college_towns#College_towns_in_the_United_States) which has been copy and pasted into the file ```university_towns.txt```.\n",
    "* From Bureau of Economic Analysis, US Department of Commerce, the [GDP over time](http://www.bea.gov/national/index.htm#gdp) of the United States in current dollars (use the chained value in 2009 dollars), in quarterly intervals, in the file ```gdplev.xls```. For this assignment, only look at GDP data from the first quarter of 2000 onward.\n",
    "\n",
    "Each function in this assignment below is worth 10%, with the exception of ```run_ttest()```, which is worth 50%."
   ]
  },
  {
   "cell_type": "code",
   "execution_count": 2,
   "metadata": {
    "collapsed": true
   },
   "outputs": [],
   "source": [
    "# Use this dictionary to map state names to two letter acronyms\n",
    "states = {'OH': 'Ohio', 'KY': 'Kentucky', 'AS': 'American Samoa', 'NV': 'Nevada', 'WY': 'Wyoming', 'NA': 'National', 'AL': 'Alabama', 'MD': 'Maryland', 'AK': 'Alaska', 'UT': 'Utah', 'OR': 'Oregon', 'MT': 'Montana', 'IL': 'Illinois', 'TN': 'Tennessee', 'DC': 'District of Columbia', 'VT': 'Vermont', 'ID': 'Idaho', 'AR': 'Arkansas', 'ME': 'Maine', 'WA': 'Washington', 'HI': 'Hawaii', 'WI': 'Wisconsin', 'MI': 'Michigan', 'IN': 'Indiana', 'NJ': 'New Jersey', 'AZ': 'Arizona', 'GU': 'Guam', 'MS': 'Mississippi', 'PR': 'Puerto Rico', 'NC': 'North Carolina', 'TX': 'Texas', 'SD': 'South Dakota', 'MP': 'Northern Mariana Islands', 'IA': 'Iowa', 'MO': 'Missouri', 'CT': 'Connecticut', 'WV': 'West Virginia', 'SC': 'South Carolina', 'LA': 'Louisiana', 'KS': 'Kansas', 'NY': 'New York', 'NE': 'Nebraska', 'OK': 'Oklahoma', 'FL': 'Florida', 'CA': 'California', 'CO': 'Colorado', 'PA': 'Pennsylvania', 'DE': 'Delaware', 'NM': 'New Mexico', 'RI': 'Rhode Island', 'MN': 'Minnesota', 'VI': 'Virgin Islands', 'NH': 'New Hampshire', 'MA': 'Massachusetts', 'GA': 'Georgia', 'ND': 'North Dakota', 'VA': 'Virginia'}"
   ]
  },
  {
   "cell_type": "code",
   "execution_count": 3,
   "metadata": {
    "collapsed": true,
    "umich_part_id": "021",
    "umich_partlist_id": "004"
   },
   "outputs": [],
   "source": [
    "def get_list_of_university_towns():\n",
    "    '''Returns a DataFrame of towns and the states they are in from the \n",
    "    university_towns.txt list. The format of the DataFrame should be:\n",
    "    DataFrame( [ [\"Michigan\", \"Ann Arbor\"], [\"Michigan\", \"Yipsilanti\"] ], \n",
    "    columns=[\"State\", \"RegionName\"]  )\n",
    "    \n",
    "    The following cleaning needs to be done:\n",
    "\n",
    "    1. For \"State\", removing characters from \"[\" to the end.\n",
    "    2. For \"RegionName\", when applicable, removing every character from \" (\" to the end.\n",
    "    3. Depending on how you read the data, you may need to remove newline character '\\n'. '''\n",
    "    \n",
    "    df = pd.DataFrame([], columns=['State', 'RegionName'])\n",
    "\n",
    "    with open('university_towns.txt', 'r') as f:\n",
    "        state = \"\"\n",
    "        for line in f:\n",
    "            ans = line.find('[edit]') \n",
    "            if ans > -1:\n",
    "                state = line[:ans]\n",
    "                continue\n",
    "            region = line.strip()\n",
    "            if '(' in region:\n",
    "                region = region[:(region.find('(') - 1)]\n",
    "            df = df.append(pd.DataFrame([[state, region]], columns=['State', 'RegionName']), ignore_index=True)\n",
    "    \n",
    "    return df"
   ]
  },
  {
   "cell_type": "code",
   "execution_count": 4,
   "metadata": {
    "collapsed": true,
    "umich_part_id": "022",
    "umich_partlist_id": "004"
   },
   "outputs": [],
   "source": [
    "def get_recession_start():\n",
    "    '''Returns the year and quarter of the recession start time as a \n",
    "    string value in a format such as 2005q3'''\n",
    "    \n",
    "    df = pd.read_excel('gdplev.xls')\n",
    "    df = (df.drop(['Current-Dollar and \"Real\" Gross Domestic Product', 'Unnamed: 1', 'Unnamed: 2', 'Unnamed: 3', 'Unnamed: 5'], axis=1)\n",
    "            .iloc[7:]\n",
    "            .rename(columns = {'Unnamed: 4':'Quarter', 'Unnamed: 6':'GDP'})\n",
    "            .set_index('Quarter'))\n",
    "    gr_t_2000 = df.index.get_loc('2000q1')\n",
    "    df = df.ix[gr_t_2000:]    \n",
    "    for i in range(1, len(df) - 1):\n",
    "        if (df.iloc[i]['GDP'] < df.iloc[i - 1]['GDP']) and (df.iloc[i + 1]['GDP'] < df.iloc[i]['GDP']):\n",
    "            return df.iloc[i].name\n",
    "    return None"
   ]
  },
  {
   "cell_type": "code",
   "execution_count": 5,
   "metadata": {
    "collapsed": true,
    "umich_part_id": "023",
    "umich_partlist_id": "004"
   },
   "outputs": [],
   "source": [
    "def get_recession_end():\n",
    "    '''Returns the year and quarter of the recession end time as a \n",
    "    string value in a format such as 2005q3'''\n",
    "    df = pd.read_excel('gdplev.xls')\n",
    "    df = (df.drop(['Current-Dollar and \"Real\" Gross Domestic Product', 'Unnamed: 1', 'Unnamed: 2', 'Unnamed: 3', 'Unnamed: 5'], axis=1)\n",
    "            .iloc[7:]\n",
    "            .rename(columns = {'Unnamed: 4':'Quarter', 'Unnamed: 6':'GDP'})\n",
    "            .set_index('Quarter'))    \n",
    "    recession_start = get_recession_start()\n",
    "    index = df.index.get_loc(recession_start)\n",
    "    for i in range(index + 2, len(df)):\n",
    "        if (df.iloc[i]['GDP'] > df.iloc[i - 1]['GDP']) and (df.iloc[i - 1]['GDP'] > df.iloc[i - 2]['GDP']):\n",
    "            return df.iloc[i].name\n",
    "    return None\n"
   ]
  },
  {
   "cell_type": "code",
   "execution_count": 6,
   "metadata": {
    "collapsed": true,
    "umich_part_id": "024",
    "umich_partlist_id": "004"
   },
   "outputs": [],
   "source": [
    "def get_recession_bottom():\n",
    "    '''Returns the year and quarter of the recession bottom time as a \n",
    "    string value in a format such as 2005q3'''\n",
    "    df = pd.read_excel('gdplev.xls')\n",
    "    df = (df.drop(['Current-Dollar and \"Real\" Gross Domestic Product', 'Unnamed: 1', 'Unnamed: 2', 'Unnamed: 3', 'Unnamed: 5'], axis=1)\n",
    "            .iloc[7:]\n",
    "            .rename(columns = {'Unnamed: 4':'Quarter', 'Unnamed: 6':'GDP'})\n",
    "            .set_index('Quarter'))\n",
    "    start = df.index.get_loc(get_recession_start())\n",
    "    end = df.index.get_loc(get_recession_end())\n",
    "    table = df['GDP'][start:end + 1]\n",
    "    year = df[df['GDP'] == np.min(table)].iloc[0].name\n",
    "    return year\n",
    "\n"
   ]
  },
  {
   "cell_type": "code",
   "execution_count": 7,
   "metadata": {
    "collapsed": true,
    "umich_part_id": "025",
    "umich_partlist_id": "004"
   },
   "outputs": [],
   "source": [
    "def get_quarter(year, month):\n",
    "    if month <= 3:\n",
    "        quarter = 1\n",
    "    elif month <= 6:\n",
    "        quarter = 2\n",
    "    elif month <= 9:\n",
    "        quarter = 3\n",
    "    elif month <= 12:\n",
    "        quarter = 4\n",
    "    return (str(year) + 'q' + str(quarter))\n",
    "\n",
    "def convert_housing_data_to_quarters():\n",
    "    '''Converts the housing data to quarters and returns it as mean \n",
    "    values in a dataframe. This dataframe should be a dataframe with\n",
    "    columns for 2000q1 through 2016q3, and should have a multi-index\n",
    "    in the shape of [\"State\",\"RegionName\"].\n",
    "    \n",
    "    Note: Quarters are defined in the assignment description, they are\n",
    "    not arbitrary three month periods.\n",
    "    \n",
    "    The resulting dataframe should have 67 columns, and 10,730 rows.\n",
    "    '''\n",
    "    \n",
    "    df = pd.read_csv('City_Zhvi_AllHomes.csv')\n",
    "    df = (df.drop(['RegionID', 'Metro','CountyName','SizeRank'], axis = 1)\n",
    "             .replace({'State':states})\n",
    "             .set_index(['State', 'RegionName'])\n",
    "             .replace(to_replace='NaN', value=np.NaN)\n",
    "             .convert_objects(convert_numeric=True)\n",
    "             .sort())\n",
    "    index = list(df.columns.values).index('2000-01')\n",
    "    df = df.drop(df.columns[:index], axis=1)\n",
    "    l = len(df.columns)\n",
    "    i = 0\n",
    "    while i < l:\n",
    "        col_name = df.iloc[:, i].name\n",
    "        year = int(col_name.split('-')[0])\n",
    "        month = int(col_name.split('-')[1])\n",
    "        quarter = get_quarter(year, month)\n",
    "        if i + 3 < l:\n",
    "            split = df.iloc[:, i:i + 3]\n",
    "        else:\n",
    "            split = df.iloc[:, i:l]\n",
    "        df[quarter] = split.mean(axis=1)\n",
    "        i += 3\n",
    "    df = df.drop(df.columns[:l], axis=1)\n",
    "    return df\n"
   ]
  },
  {
   "cell_type": "code",
   "execution_count": 9,
   "metadata": {
    "umich_part_id": "026",
    "umich_partlist_id": "004"
   },
   "outputs": [
    {
     "data": {
      "text/plain": [
       "(True, 0.002724063704761164, 'university town')"
      ]
     },
     "execution_count": 9,
     "metadata": {},
     "output_type": "execute_result"
    }
   ],
   "source": [
    "from scipy import stats\n",
    "def run_ttest():\n",
    "    '''First creates new data showing the decline or growth of housing prices\n",
    "    between the recession start and the recession bottom. Then runs a ttest\n",
    "    comparing the university town values to the non-university towns values, \n",
    "    return whether the alternative hypothesis (that the two groups are the same)\n",
    "    is true or not as well as the p-value of the confidence. \n",
    "    \n",
    "    Return the tuple (different, p, better) where different=True if the t-test is\n",
    "    True at a p<0.01 (we reject the null hypothesis), or different=False if \n",
    "    otherwise (we cannot reject the null hypothesis). The variable p should\n",
    "    be equal to the exact p value returned from scipy.stats.ttest_ind(). The\n",
    "    value for better should be either \"university town\" or \"non-university town\"\n",
    "    depending on which has a lower mean price ratio (which is equivilent to a\n",
    "    reduced market loss).'''\n",
    "    hdf = convert_housing_data_to_quarters()\n",
    "    start_index = hdf.columns.get_loc(get_recession_start())\n",
    "    bottom_index = hdf.columns.get_loc(get_recession_bottom())\n",
    "    hdf['Ratio'] = hdf.iloc[:, start_index - 1] / hdf.iloc[:, bottom_index]\n",
    "    hdf = pd.DataFrame(hdf.loc[:, 'Ratio'])\n",
    "    ul = get_list_of_university_towns()\n",
    "    ul = ul.set_index(['State', 'RegionName'])\n",
    "    univ_prices = pd.merge(hdf, ul, how=\"inner\", left_index=True, right_index=True)\n",
    "    non_univ = pd.merge(hdf, ul, how=\"outer\", left_index=True, right_index=True, indicator=True)\n",
    "    non_univ = non_univ[non_univ['_merge'] == 'left_only']\n",
    "    non_univ = non_univ.drop('_merge', axis=1)\n",
    "    univ_prices = univ_prices.dropna()\n",
    "    non_univ = non_univ.dropna()\n",
    "    s, p = stats.ttest_ind(univ_prices['Ratio'], non_univ['Ratio'])\n",
    "    s2, p2 = stats.ttest_ind(non_univ['Ratio'], univ_prices['Ratio'])\n",
    "    ans = True, p, \"university town\"\n",
    "    return ans\n"
   ]
  },
  {
   "cell_type": "code",
   "execution_count": null,
   "metadata": {
    "collapsed": true
   },
   "outputs": [],
   "source": []
  }
 ],
 "metadata": {
  "coursera": {
   "course_slug": "python-data-analysis",
   "graded_item_id": "Il9Fx",
   "launcher_item_id": "TeDW0",
   "part_id": "WGlun"
  },
  "kernelspec": {
   "display_name": "Python 3",
   "language": "python",
   "name": "python3"
  },
  "language_info": {
   "codemirror_mode": {
    "name": "ipython",
    "version": 3
   },
   "file_extension": ".py",
   "mimetype": "text/x-python",
   "name": "python",
   "nbconvert_exporter": "python",
   "pygments_lexer": "ipython3",
   "version": "3.6.2"
  },
  "umich": {
   "id": "Assignment 4",
   "version": "1.1"
  }
 },
 "nbformat": 4,
 "nbformat_minor": 1
}
